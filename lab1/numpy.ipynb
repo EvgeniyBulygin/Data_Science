{
  "cells": [
    {
      "cell_type": "markdown",
      "metadata": {
        "id": "vC84e9kzyxPy"
      },
      "source": [
        "<h1>Импорт библиотек"
      ]
    },
    {
      "cell_type": "code",
      "execution_count": 3,
      "metadata": {
        "id": "cgKeNegmQG5S"
      },
      "outputs": [],
      "source": [
        "import numpy as np\n",
        "import matplotlib.pyplot as plt"
      ]
    },
    {
      "cell_type": "markdown",
      "metadata": {
        "id": "qFM9uVU2x4Ls"
      },
      "source": [
        "<h1>Задача 1. Дан набор из $p$ матриц размерностью $(n, n)$ и $p$ векторов размерностью $(n, 1)$, найти сумму произведений матриц на векторы. Написать тесты для кода"
      ]
    },
    {
      "cell_type": "code",
      "execution_count": null,
      "metadata": {
        "id": "IAbUvEiYyWFF"
      },
      "outputs": [],
      "source": [
        "import numpy as np\n",
        "import matplotlib.pyplot as plt\n",
        "\n",
        "def sum_prod(X, V):\n",
        "    '''\n",
        "    X - список матриц (n, n)\n",
        "    V - список векторов (n, 1)\n",
        "    Гарантируется, что len(X) == len(V)\n",
        "    '''\n",
        "    # Начальная сумма - вектор с нулями\n",
        "    result = np.zeros((X[0].shape[0], 1))\n",
        "    # Проходим по всем матрицам и вектором, и суммируем произведения\n",
        "    for matrix, vector in zip(X, V):\n",
        "        result += np.dot(matrix, vector)\n",
        "    return result\n",
        "\n",
        "def test_sum_prod():\n",
        "    # Тест 1: Простой пример\n",
        "    X1 = [np.array([[1, 0], [0, 1]]), np.array([[2, 0], [0, 2]])]\n",
        "    V1 = [np.array([[1], [1]]), np.array([[1], [1]])]\n",
        "    assert (sum_prod(X1, V1) == np.array([[3], [3]])).all(), \"Тест 1 не пройден\"\n",
        "\n",
        "    # Тест 2: Обновленный результат\n",
        "    X2 = [np.array([[1, 2], [3, 4]]), np.array([[0, 1], [1, 0]])]\n",
        "    V2 = [np.array([[1], [2]]), np.array([[2], [1]])]\n",
        "    assert (sum_prod(X2, V2) == np.array([[6], [13]])).all(), \"Тест 2 не пройден\"\n",
        "\n",
        "    # Тест 3: Матрица единичная и нулевые векторы\n",
        "    X3 = [np.eye(3)] * 3\n",
        "    V3 = [np.zeros((3, 1))] * 3\n",
        "    assert (sum_prod(X3, V3) == np.zeros((3, 1))).all(), \"Тест 3 не пройден\"\n",
        "\n",
        "    print(\"Все тесты пройдены!\")\n",
        "\n",
        "# Запускаем тесты\n",
        "test_sum_prod()"
      ]
    },
    {
      "cell_type": "markdown",
      "metadata": {
        "id": "TKwPG4fIy2w4"
      },
      "source": [
        "<h1>Задача 2. Дана матрица M, напишите функцию, которая бинаризует матрицу по некоторому threshold (то есть, все значения большие threshold становятся равными 1, иначе 0). Напишите тесты для кода"
      ]
    },
    {
      "cell_type": "code",
      "execution_count": null,
      "metadata": {
        "id": "KQDNMgsjRNH7"
      },
      "outputs": [],
      "source": [
        "import numpy as np\n",
        "import matplotlib.pyplot as plt\n",
        "\n",
        "def binarize(M, threshold=0.5):\n",
        "    '''\n",
        "    Параметры:\n",
        "    M (numpy.ndarray): Входная матрица.\n",
        "    threshold (float): Порог для бинаризации. \n",
        "    Функция возвращает бинаризированную матрицу.\n",
        "    '''\n",
        "    return np.where(M >= threshold, 1, 0)\n",
        "\n",
        "\n",
        "def test_binarize():\n",
        "    # Тест 1: Простой случай\n",
        "    M1 = np.array([[0.2, 0.6], [0.5, 0.8]])\n",
        "    expected1 = np.array([[0, 1], [1, 1]])\n",
        "    assert (binarize(M1, 0.5) == expected1).all(), \"Тест 1 не пройден\"\n",
        "    \n",
        "    # Тест 2: Порог выше всех значений\n",
        "    M2 = np.array([[0.1, 0.2], [0.3, 0.4]])\n",
        "    expected2 = np.array([[0, 0], [0, 0]])\n",
        "    assert (binarize(M2, 0.5) == expected2).all(), \"Тест 2 не пройден\"\n",
        "    \n",
        "    # Тест 3: Все значения ниже порога\n",
        "    M3 = np.array([[0.6, 0.7], [0.8, 0.9]])\n",
        "    expected3 = np.array([[1, 1], [1, 1]])\n",
        "    assert (binarize(M3, 0.5) == expected3).all(), \"Тест 3 не пройден\"\n",
        "    \n",
        "    # Тест 4: Порог равен значению элемента\n",
        "    M4 = np.array([[0.5, 0.7], [0.3, 0.5]])\n",
        "    expected4 = np.array([[1, 1], [0, 1]])\n",
        "    assert (binarize(M4, 0.5) == expected4).all(), \"Тест 4 не пройден\"\n",
        "    \n",
        "    print(\"Все тесты пройдены!\")\n",
        "\n",
        "# Запуск тестов\n",
        "test_binarize()"
      ]
    },
    {
      "cell_type": "markdown",
      "metadata": {
        "id": "IY5L-h-7zWhN"
      },
      "source": [
        "<h1>Задача 3. Напишите функцию, которая возвращает уникальные элементы из каждой строки матрицы. Напишите такую же функцию, но для столбцов. Напишите тесты для кода"
      ]
    },
    {
      "cell_type": "code",
      "execution_count": null,
      "metadata": {
        "id": "-8dEZhR0SBC-"
      },
      "outputs": [],
      "source": [
        "def unique_rows(mat):\n",
        "    # Your code goes here\n",
        "    pass\n",
        "\n",
        "def unique_columns(mat):\n",
        "    # Your code goes here\n",
        "    pass"
      ]
    },
    {
      "cell_type": "markdown",
      "metadata": {
        "id": "roYAlo4Jz-lH"
      },
      "source": [
        "<h1>Задача 4. Напишите функцию, которая заполняет матрицу с размерами $(m, n)$ случайными числами, распределенными по нормальному закону. Затем считает мат. ожидание и дисперсию для каждого из столбцов и строк, а также строит для каждой строки и столбца гистограмму значений (использовать функцию hist из модуля matplotlib.plot)"
      ]
    },
    {
      "cell_type": "code",
      "execution_count": null,
      "metadata": {
        "id": "nZK_71hMSQzv"
      },
      "outputs": [],
      "source": [
        "# Your code goes here"
      ]
    },
    {
      "cell_type": "markdown",
      "metadata": {
        "id": "BDyATNdM0dJ2"
      },
      "source": [
        "<h1>Задача 5. Напишите функцию, которая заполняет матрицу $(m, n)$ в шахматном порядке заданными числами $a$ и $b$. Напишите тесты для кода"
      ]
    },
    {
      "cell_type": "code",
      "execution_count": null,
      "metadata": {
        "id": "RWNJYWQGecS6"
      },
      "outputs": [],
      "source": [
        "def chess(m, n, a, b):\n",
        "    # Your code goes here\n",
        "    pass"
      ]
    },
    {
      "cell_type": "markdown",
      "metadata": {
        "id": "-ymXLtTN0vB6"
      },
      "source": [
        "<h1>Задача 6. Напишите функцию, которая отрисовывает прямоугольник с заданными размерами (a, b) на изображении размера (m, n), цвет фона задайте в схеме RGB, как и цвет прямоугольника. Цвета также должны быть параметрами функции. Напишите аналогичную функцию но для овала с полуосями a и b. Напишите тесты для кода.\n",
        "Примечание: уравнение эллипса (границы овала) можно записать как:\n",
        "<h1>$\\frac{(x-x_0)^2}{a^2}+\\frac{(y-y_0)^2}{b^2}=1$"
      ]
    },
    {
      "cell_type": "code",
      "execution_count": 1,
      "metadata": {
        "id": "sNfl1t_kfOF4"
      },
      "outputs": [],
      "source": [
        "def draw_rectangle(a, b, m, n, rectangle_color, background_color):\n",
        "    # Your code goes here\n",
        "    pass\n",
        "\n",
        "def draw_ellipse(a, b, m, n, ellipse_color, background_color):\n",
        "    # Your code goes here\n",
        "    pass"
      ]
    },
    {
      "cell_type": "markdown",
      "metadata": {
        "id": "S82c38oz244H"
      },
      "source": [
        "<h1>Задача 7. Дан некий временной ряд. Для данного ряда нужно найти его: математическое ожидание, дисперсию, СКО, найти все локальные максимумы и минимумы (локальный максимум - это точка, которая больше своих соседних точек, а локальный минимум - это точка, которая меньше своих соседей), а также вычислить для данного ряда другой ряд, получаемый методом скользящего среднего с размером окна $p$.\n",
        "<h1>Примечание: метод скользящего среднего подразумевает нахождение среднего из подмножетсва ряда размером $p$"
      ]
    },
    {
      "cell_type": "code",
      "execution_count": null,
      "metadata": {
        "id": "Zb9mIVge5MMt"
      },
      "outputs": [],
      "source": [
        "# Your code goes here"
      ]
    },
    {
      "cell_type": "markdown",
      "metadata": {
        "id": "jPkylmOX5O9n"
      },
      "source": [
        "<h1> Задача 8. Дан некоторый вектор с целочисленными метками классов, напишите функцию, которая выполняет one-hot-encoding для данного вектора\n",
        "<h1> One-hot-encoding - представление, в котором на месте метки некоторого класса стоит 1, в остальных позициях стоит 0. Например для вектора [0, 2, 3, 0] one-hot-encoding выглядит как: [[1, 0, 0, 0], [0, 0, 1, 0], [0, 0, 0, 1], [1, 0, 0, 0]]"
      ]
    },
    {
      "cell_type": "code",
      "execution_count": null,
      "metadata": {
        "id": "Y-jlnZvw56lD"
      },
      "outputs": [],
      "source": [
        "# Your code goes here"
      ]
    }
  ],
  "metadata": {
    "colab": {
      "provenance": []
    },
    "kernelspec": {
      "display_name": "Python 3",
      "name": "python3"
    },
    "language_info": {
      "name": "python"
    }
  },
  "nbformat": 4,
  "nbformat_minor": 0
}
