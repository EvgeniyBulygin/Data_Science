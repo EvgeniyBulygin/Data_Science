{
  "cells": [
    {
      "cell_type": "markdown",
      "metadata": {
        "id": "M-DGa20PaHnu"
      },
      "source": [
        "# Задача 1\n",
        "Написать функцию на вход которой подается строка, состоящая из латинских букв.\n",
        "Функция должна вернуть количество гласных букв (a, e, i, o, u) в этой строке. Написать тесты для кода"
      ]
    },
    {
      "cell_type": "code",
      "execution_count": 4,
      "metadata": {
        "id": "XvX8X_JJ6PCb"
      },
      "outputs": [
        {
          "name": "stdout",
          "output_type": "stream",
          "text": [
            "Результат теста 1: 2, Ожидаемый: 2, Пройден\n",
            "Результат теста 2: 0, Ожидаемый: 0, Пройден\n",
            "Результат теста 3: 5, Ожидаемый: 5, Пройден\n",
            "Результат теста 4: 0, Ожидаемый: 0, Пройден\n",
            "Результат теста 5: 3, Ожидаемый: 3, Пройден\n"
          ]
        }
      ],
      "source": [
        "def count_vowels(s: str) -> int:\n",
        "    vowels = \"aeiou\"\n",
        "    count = 0\n",
        "    for char in s.lower():\n",
        "        if char in vowels:\n",
        "            count += 1\n",
        "    return count\n",
        "\n",
        "\n",
        "# Тест 1: \"Hello\"\n",
        "result1 = count_vowels(\"Hello\")\n",
        "expected1 = 2\n",
        "print(f\"Результат теста 1: {result1}, Ожидаемый: {expected1}, {'Пройден' if result1 == expected1 else 'Не пройден'}\")\n",
        "# Тест 2: \"xyz\"\n",
        "result2 = count_vowels(\"xyz\")\n",
        "expected2 = 0\n",
        "print(f\"Результат теста 2: {result2}, Ожидаемый: {expected2}, {'Пройден' if result2 == expected2 else 'Не пройден'}\")\n",
        "# Тест 3: \"AEIOU\"\n",
        "result3 = count_vowels(\"AEIOU\")\n",
        "expected3 = 5\n",
        "print(f\"Результат теста 3: {result3}, Ожидаемый: {expected3}, {'Пройден' if result3 == expected3 else 'Не пройден'}\")\n",
        "# Тест 4: пустая строка\n",
        "result4 = count_vowels(\"\")\n",
        "expected4 = 0\n",
        "print(f\"Результат теста 4: {result4}, Ожидаемый: {expected4}, {'Пройден' if result4 == expected4 else 'Не пройден'}\")\n",
        "# Тест 5: \"Programming\"\n",
        "result5 = count_vowels(\"Programming\")\n",
        "expected5 = 3\n",
        "print(f\"Результат теста 5: {result5}, Ожидаемый: {expected5}, {'Пройден' if result5 == expected5 else 'Не пройден'}\")\n",
        "\n"
      ]
    },
    {
      "cell_type": "markdown",
      "metadata": {
        "id": "t2ClV_Y0bbr6"
      },
      "source": [
        "# Задача 2\n",
        "Написать функцию на вход, которой подается строка. Функция должна вернуть true, если\n",
        "каждый символ в строке встречается только 1 раз, иначе должна вернуть false. Написать тесты для кода"
      ]
    },
    {
      "cell_type": "code",
      "execution_count": 11,
      "metadata": {
        "id": "FppbECao6VIz"
      },
      "outputs": [
        {
          "name": "stdout",
          "output_type": "stream",
          "text": [
            "Результат теста 1: True, Ожидаемый: True, Пройден\n",
            "Результат теста 2: False, Ожидаемый: False, Пройден\n",
            "Результат теста 3: True, Ожидаемый: True, Пройден\n",
            "Результат теста 4: True, Ожидаемый: True, Пройден\n",
            "Результат теста 5: False, Ожидаемый: False, Пройден\n"
          ]
        }
      ],
      "source": [
        "def all_unique(s: str) -> bool:\n",
        "    return len(set(s)) == len(s)\n",
        "\n",
        "\n",
        "# Тесты\n",
        "def test_all_unique():\n",
        "    # Тест 1: все символы уникальны\n",
        "    result1 = all_unique(\"abcd\")\n",
        "    expected1 = True\n",
        "    print(f\"Результат теста 1: {result1}, Ожидаемый: {expected1}, {'Пройден' if result1 == expected1 else 'Не пройден'}\")\n",
        "\n",
        "    # Тест 2: есть повторяющийся символ\n",
        "    result2 = all_unique(\"abca\")\n",
        "    expected2 = False\n",
        "    print(f\"Результат теста 2: {result2}, Ожидаемый: {expected2}, {'Пройден' if result2 == expected2 else 'Не пройден'}\")\n",
        "\n",
        "    # Тест 3: пустая строка\n",
        "    result3 = all_unique(\"\")\n",
        "    expected3 = True\n",
        "    print(f\"Результат теста 3: {result3}, Ожидаемый: {expected3}, {'Пройден' if result3 == expected3 else 'Не пройден'}\")\n",
        "\n",
        "    # Тест 4: все символы уникальны (числа)\n",
        "    result4 = all_unique(\"123456\")\n",
        "    expected4 = True\n",
        "    print(f\"Результат теста 4: {result4}, Ожидаемый: {expected4}, {'Пройден' if result4 == expected4 else 'Не пройден'}\")\n",
        "\n",
        "    # Тест 5: есть повторяющийся символ (числа)\n",
        "    result5 = all_unique(\"123451\")\n",
        "    expected5 = False\n",
        "    print(f\"Результат теста 5: {result5}, Ожидаемый: {expected5}, {'Пройден' if result5 == expected5 else 'Не пройден'}\")\n",
        "\n",
        "\n",
        "test_all_unique()"
      ]
    },
    {
      "cell_type": "markdown",
      "metadata": {
        "id": "udRiIK1cdt6E"
      },
      "source": [
        "# Задача 3\n",
        "Написать функцию, которая принимает положительное число и возвращает количество\n",
        "бит равных 1 в этом числе. Написать тесты для кода"
      ]
    },
    {
      "cell_type": "code",
      "execution_count": 10,
      "metadata": {
        "id": "6tkfDJRz6dp_"
      },
      "outputs": [
        {
          "name": "stdout",
          "output_type": "stream",
          "text": [
            "Результат теста 1: 0, Ожидаемый: 0, Пройден\n",
            "Результат теста 2: 1, Ожидаемый: 1, Пройден\n",
            "Результат теста 3: 2, Ожидаемый: 2, Пройден\n",
            "Результат теста 4: 1, Ожидаемый: 1, Пройден\n",
            "Результат теста 5: 4, Ожидаемый: 4, Пройден\n"
          ]
        }
      ],
      "source": [
        "def count_bits(n: int) -> int:\n",
        "    return bin(n).count('1')\n",
        "\n",
        "\n",
        "def test_count_bits():\n",
        "    # Тест 1: 0 в двоичном виде\n",
        "    result1 = count_bits(0)\n",
        "    expected1 = 0\n",
        "    print(f\"Результат теста 1: {result1}, Ожидаемый: {expected1}, {'Пройден' if result1 == expected1 else 'Не пройден'}\")\n",
        "\n",
        "    # Тест 2: 1 в двоичном виде\n",
        "    result2 = count_bits(1)\n",
        "    expected2 = 1\n",
        "    print(f\"Результат теста 2: {result2}, Ожидаемый: {expected2}, {'Пройден' if result2 == expected2 else 'Не пройден'}\")\n",
        "\n",
        "    # Тест 3: 3 в двоичном виде (11)\n",
        "    result3 = count_bits(3)\n",
        "    expected3 = 2\n",
        "    print(f\"Результат теста 3: {result3}, Ожидаемый: {expected3}, {'Пройден' if result3 == expected3 else 'Не пройден'}\")\n",
        "\n",
        "    # Тест 4: 4 в двоичном виде (100)\n",
        "    result4 = count_bits(4)\n",
        "    expected4 = 1\n",
        "    print(f\"Результат теста 4: {result4}, Ожидаемый: {expected4}, {'Пройден' if result4 == expected4 else 'Не пройден'}\")\n",
        "\n",
        "    # Тест 5: 15 в двоичном виде (1111)\n",
        "    result5 = count_bits(15)\n",
        "    expected5 = 4\n",
        "    print(f\"Результат теста 5: {result5}, Ожидаемый: {expected5}, {'Пройден' if result5 == expected5 else 'Не пройден'}\")\n",
        "\n",
        "\n",
        "test_count_bits()"
      ]
    },
    {
      "cell_type": "markdown",
      "metadata": {
        "id": "26dDUz-Ae17N"
      },
      "source": [
        "# Задача 4\n",
        "Написать функцию, которая принимает положительное число. Функция должна вернуть то,\n",
        "сколько раз необходимо перемножать цифры числа или результат перемножения, чтобы\n",
        "получилось число состоящее из одной цифры.\n",
        "Например, для входного числа:\n",
        "· 39 функция должна вернуть 3, так как 3*9=27 => 2*7=14 => 1*4=4\n",
        "· 4 функция должна вернуть 0, так как число уже состоит из одной цифры\n",
        "· 999 функция должна вернуть 4, так как 9*9*9=729 => 7*2*9=126 => 1*2*6=12 =>\n",
        "1*2=2. Написать тесты для кода"
      ]
    },
    {
      "cell_type": "code",
      "execution_count": 13,
      "metadata": {
        "id": "BH1A_Mgi6i4G"
      },
      "outputs": [
        {
          "name": "stdout",
          "output_type": "stream",
          "text": [
            "Результат теста 1: 3, Ожидаемый: 3, Пройден\n",
            "Результат теста 2: 0, Ожидаемый: 0, Пройден\n",
            "Результат теста 3: 4, Ожидаемый: 4, Пройден\n",
            "Результат теста 4: 2, Ожидаемый: 2, Пройден\n",
            "Результат теста 5: 0, Ожидаемый: 0, Пройден\n"
          ]
        }
      ],
      "source": [
        "def magic(n: int) -> int:\n",
        "    steps = 0 # Счетчик итераций\n",
        "    while n >= 10: # Продолжаем, пока число состоит из более чем одной цифры\n",
        "        product = 1\n",
        "        for digit in str(n): # Перебираем цифры числа\n",
        "            product *= int(digit) # Перемножаем цифры\n",
        "        n = product # Обновляем число результатом произведения\n",
        "        steps += 1 # Увеличиваем счетчик шагов\n",
        "    return steps\n",
        "\n",
        "\n",
        "def test_magic():\n",
        "    # Тест 1: 39 -> 27 -> 14 -> 4\n",
        "    result1 = magic(39)\n",
        "    expected1 = 3\n",
        "    print(f\"Результат теста 1: {result1}, Ожидаемый: {expected1}, {'Пройден' if result1 == expected1 else 'Не пройден'}\")\n",
        "\n",
        "    # Тест 2: Число уже однозначное\n",
        "    result2 = magic(4)\n",
        "    expected2 = 0\n",
        "    print(f\"Результат теста 2: {result2}, Ожидаемый: {expected2}, {'Пройден' if result2 == expected2 else 'Не пройден'}\")\n",
        "\n",
        "    # Тест 3: 999 -> 729 -> 126 -> 12 -> 2\n",
        "    result3 = magic(999)\n",
        "    expected3 = 4\n",
        "    print(f\"Результат теста 3: {result3}, Ожидаемый: {expected3}, {'Пройден' if result3 == expected3 else 'Не пройден'}\")\n",
        "\n",
        "    # Тест 4: 25 -> 10 -> 0\n",
        "    result4 = magic(25)\n",
        "    expected4 = 2\n",
        "    print(f\"Результат теста 4: {result4}, Ожидаемый: {expected4}, {'Пройден' if result4 == expected4 else 'Не пройден'}\")\n",
        "\n",
        "    # Тест 5: Число уже однозначное\n",
        "    result5 = magic(1)\n",
        "    expected5 = 0\n",
        "    print(f\"Результат теста 5: {result5}, Ожидаемый: {expected5}, {'Пройден' if result5 == expected5 else 'Не пройден'}\")\n",
        "\n",
        "\n",
        "test_magic() "
      ]
    },
    {
      "cell_type": "markdown",
      "metadata": {
        "id": "0nS-kIa8g8vd"
      },
      "source": [
        "# Задача 5\n",
        "Написать функцию, которая принимает два целочисленных вектора одинаковой длины и\n",
        "возвращает среднеквадратическое отклонение двух векторов. Написать тесты для кода"
      ]
    },
    {
      "cell_type": "code",
      "execution_count": 6,
      "metadata": {
        "id": "8iphx4LM6xbx"
      },
      "outputs": [
        {
          "name": "stdout",
          "output_type": "stream",
          "text": [
            "Результат теста 1: 0.0, Ожидаемый: 0, Пройден\n",
            "Результат теста 2: 1.0, Ожидаемый: 1, Пройден\n",
            "Результат теста 3: 1.0, Ожидаемый: 1, Пройден\n",
            "Результат теста 4: 9.0, Ожидаемый: 9, Пройден\n",
            "Результат теста 5: 0.0, Ожидаемый: 0, Пройден\n"
          ]
        }
      ],
      "source": [
        "def mse(pred, true):\n",
        "    if len(pred) != len(true):\n",
        "        raise ValueError(\"Vectors must be of the same length\")\n",
        "    # Вычисляем квадраты разностей для каждого элемента и усредняем\n",
        "    squared_errors = [(p - t) ** 2 for p, t in zip(pred, true)]\n",
        "    return sum(squared_errors) / len(pred)\n",
        "\n",
        "# Тесты\n",
        "def test_mse():\n",
        "    # Тест 1: Идентичные векторы, ошибка 0\n",
        "    result1 = mse([1, 2, 3], [1, 2, 3])\n",
        "    expected1 = 0\n",
        "    print(f\"Результат теста 1: {result1}, Ожидаемый: {expected1}, {'Пройден' if result1 == expected1 else 'Не пройден'}\")\n",
        "\n",
        "    # Тест 2: Разница на 1 в каждом элементе\n",
        "    result2 = mse([1, 2, 3], [2, 3, 4])\n",
        "    expected2 = 1\n",
        "    print(f\"Результат теста 2: {result2}, Ожидаемый: {expected2}, {'Пройден' if result2 == expected2 else 'Не пройден'}\")\n",
        "\n",
        "    # Тест 3: Все отклонения на 1, MSE = 1\n",
        "    result3 = mse([0, 0, 0], [1, 1, 1])\n",
        "    expected3 = 1\n",
        "    print(f\"Результат теста 3: {result3}, Ожидаемый: {expected3}, {'Пройден' if result3 == expected3 else 'Не пройден'}\")\n",
        "\n",
        "    # Тест 4: (1-4)^2 + (2-5)^2 + (3-6)^2 = 27 / 3 = 9\n",
        "    result4 = mse([1, 2, 3], [4, 5, 6])\n",
        "    expected4 = 9\n",
        "    print(f\"Результат теста 4: {result4}, Ожидаемый: {expected4}, {'Пройден' if result4 == expected4 else 'Не пройден'}\")\n",
        "\n",
        "    # Тест 5: Один элемент, ошибка 0\n",
        "    result5 = mse([5], [5])\n",
        "    expected5 = 0\n",
        "    print(f\"Результат теста 5: {result5}, Ожидаемый: {expected5}, {'Пройден' if result5 == expected5 else 'Не пройден'}\")\n",
        "\n",
        "\n",
        "test_mse()"
      ]
    },
    {
      "cell_type": "markdown",
      "metadata": {
        "id": "vpIPKL439zkw"
      },
      "source": [
        "# Задача 6\n",
        "Написать функцию, принимающая целое положительное число. Функция должна вернуть\n",
        "строку вида “(n1**p1)(n2**p2)…(nk**pk)” представляющая разложение числа на простые\n",
        "множители (если pi == 1, то выводить только ni).\n",
        "Например, для числа 86240 функция должна вернуть “(2**5)(5)(7**2)(11)”. Написать тесты для кода"
      ]
    },
    {
      "cell_type": "code",
      "execution_count": 5,
      "metadata": {
        "id": "pFebmcZk94Jw"
      },
      "outputs": [
        {
          "name": "stdout",
          "output_type": "stream",
          "text": [
            "Результат теста 1: (2**5)(5)(7**2)(11), Ожидаемый: (2**5)(5)(7**2)(11), Пройден\n",
            "Результат теста 2: (2**3)(3**2)(5), Ожидаемый: (2**3)(3**2)(5), Пройден\n",
            "Результат теста 3: (13), Ожидаемый: (13), Пройден\n",
            "Результат теста 4: (2**2)(5**2), Ожидаемый: (2**2)(5**2), Пройден\n"
          ]
        }
      ],
      "source": [
        "def prime_factorization(n: int) -> str:\n",
        "    def prime_factors(n):\n",
        "        i = 2\n",
        "        factors = {}\n",
        "        while i * i <= n:\n",
        "            while n % i == 0:\n",
        "                if i in factors:\n",
        "                    factors[i] += 1\n",
        "                else:\n",
        "                    factors[i] = 1\n",
        "                n //= i\n",
        "            i += 1\n",
        "        if n > 1:\n",
        "            factors[n] = 1\n",
        "        return factors\n",
        "\n",
        "    factors = prime_factors(n)\n",
        "    result = []\n",
        "    for prime, power in factors.items():\n",
        "        if power == 1:\n",
        "            result.append(f\"({prime})\")\n",
        "        else:\n",
        "            result.append(f\"({prime}**{power})\")\n",
        "    return ''.join(result)\n",
        "\n",
        "\n",
        "def test_prime_factorization():\n",
        "    # Тест 1 \n",
        "    result1 = prime_factorization(86240)\n",
        "    expected1 = \"(2**5)(5)(7**2)(11)\"\n",
        "    print(f\"Результат теста 1: {result1}, Ожидаемый: {expected1}, {'Пройден' if result1 == expected1 else 'Не пройден'}\")\n",
        "\n",
        "    # Тест 2\n",
        "    result2 = prime_factorization(360)\n",
        "    expected2 = \"(2**3)(3**2)(5)\"\n",
        "    print(f\"Результат теста 2: {result2}, Ожидаемый: {expected2}, {'Пройден' if result2 == expected2 else 'Не пройден'}\")\n",
        "\n",
        "    # Тест 3\n",
        "    result3 = prime_factorization(13)\n",
        "    expected3 = \"(13)\"\n",
        "    print(f\"Результат теста 3: {result3}, Ожидаемый: {expected3}, {'Пройден' if result3 == expected3 else 'Не пройден'}\")\n",
        "\n",
        "    # Тест 4\n",
        "    result4 = prime_factorization(100)\n",
        "    expected4 = \"(2**2)(5**2)\"\n",
        "    print(f\"Результат теста 4: {result4}, Ожидаемый: {expected4}, {'Пройден' if result4 == expected4 else 'Не пройден'}\")\n",
        "\n",
        "\n",
        "test_prime_factorization()"
      ]
    },
    {
      "cell_type": "markdown",
      "metadata": {
        "id": "ps2s0BudX7A2"
      },
      "source": [
        "# Задача 7\n",
        "Написать функцию, принимающая целое число n, задающее количество кубиков. Функция\n",
        "должна определить, можно ли из данного кол-ва кубиков построить пирамиду, то есть\n",
        "можно ли представить число n как 1^2+2^2+3^2+…+k^2. Если можно, то функция должна\n",
        "вернуть k, иначе строку “It is impossible”. Написать тесты для кода"
      ]
    },
    {
      "cell_type": "code",
      "execution_count": 4,
      "metadata": {
        "id": "3YPjEXxhX_YT"
      },
      "outputs": [
        {
          "name": "stdout",
          "output_type": "stream",
          "text": [
            "Результат теста 1: 2, Ожидаемый: 2, Пройден\n",
            "Результат теста 2: 3, Ожидаемый: 3, Пройден\n",
            "Результат теста 3: 4, Ожидаемый: 4, Пройден\n",
            "Результат теста 4: It is impossible, Ожидаемый: It is impossible, Пройден\n"
          ]
        }
      ],
      "source": [
        "def pyramid(n: int):\n",
        "    total = 0\n",
        "    k = 0\n",
        "    while total < n:\n",
        "        k += 1\n",
        "        total += k ** 2\n",
        "    if total == n:\n",
        "        return k\n",
        "    else:\n",
        "        return \"It is impossible\"\n",
        "\n",
        "def test_pyramid():\n",
        "    # Тест 1 (1^2 + 2^2 = 1 + 4 = 5, значит возможно построить пирамиду с 2 уровнями)\n",
        "    result1 = pyramid(5)\n",
        "    expected1 = 2\n",
        "    print(f\"Результат теста 1: {result1}, Ожидаемый: {expected1}, {'Пройден' if result1 == expected1 else 'Не пройден'}\")\n",
        "\n",
        "    # Тест 2 (1^2 + 2^2 + 3^2 = 1 + 4 + 9 = 14)\n",
        "    result2 = pyramid(14)\n",
        "    expected2 = 3\n",
        "    print(f\"Результат теста 2: {result2}, Ожидаемый: {expected2}, {'Пройден' if result2 == expected2 else 'Не пройден'}\")\n",
        "\n",
        "    # Тест 3 (1^2 + 2^2 + 3^2 + 4^2 = 30)\n",
        "    result3 = pyramid(30)\n",
        "    expected3 = 4\n",
        "    print(f\"Результат теста 3: {result3}, Ожидаемый: {expected3}, {'Пройден' if result3 == expected3 else 'Не пройден'}\")\n",
        "\n",
        "    # Тест 4 (Не удается достичь суммы 15)\n",
        "    result4 = pyramid(15)\n",
        "    expected4 = \"It is impossible\"\n",
        "    print(f\"Результат теста 4: {result4}, Ожидаемый: {expected4}, {'Пройден' if result4 == expected4 else 'Не пройден'}\")\n",
        "\n",
        "\n",
        "test_pyramid()"
      ]
    },
    {
      "cell_type": "markdown",
      "metadata": {
        "id": "KeKgmIdAQMEJ"
      },
      "source": [
        "# Задача 8\n",
        "Функция принимает на вход положительное число и определяет является ли оно сбалансированным, т.е. сумма цифр до средних равна сумме цифр после. Средними в случае нечетного числа цифр считать одну цифру, в случае четного - две средних. Написать тесты для кода"
      ]
    },
    {
      "cell_type": "code",
      "execution_count": 8,
      "metadata": {
        "id": "gMAAqtqlQrZt"
      },
      "outputs": [
        {
          "name": "stdout",
          "output_type": "stream",
          "text": [
            "Результат теста 1: True, Ожидаемый: True, Пройден\n",
            "Результат теста 2: True, Ожидаемый: True, Пройден\n",
            "Результат теста 3: False, Ожидаемый: False, Пройден\n",
            "Результат теста 4: False, Ожидаемый: False, Пройден\n"
          ]
        }
      ],
      "source": [
        "def is_balanced(n: int) -> bool:\n",
        "    s = str(n)\n",
        "    length = len(s)\n",
        "    if length % 2 == 0: # Если количество цифр четное\n",
        "        left_sum = sum(int(x) for x in s[:length//2 - 1])\n",
        "        right_sum = sum(int(x) for x in s[length//2 + 1:])\n",
        "    else: # Если количество цифр нечетное\n",
        "        left_sum = sum(int(x) for x in s[:length//2])\n",
        "        right_sum = sum(int(x) for x in s[length//2 + 1:])\n",
        "    return left_sum == right_sum\n",
        "\n",
        "def test_is_balanced():\n",
        "    # Тест 1 (Сумма первых 2 цифр (1+2) равна сумме последних (2+1))\n",
        "    result1 = is_balanced(123321)\n",
        "    expected1 = True\n",
        "    print(f\"Результат теста 1: {result1}, Ожидаемый: {expected1}, {'Пройден' if result1 == expected1 else 'Не пройден'}\")\n",
        "\n",
        "    # Тест 2 (Сумма первых 2 цифр (1+2) равна сумме последних (2+1))\n",
        "    result2 = is_balanced(12321)\n",
        "    expected2 = True\n",
        "    print(f\"Результат теста 2: {result2}, Ожидаемый: {expected2}, {'Пройден' if result2 == expected2 else 'Не пройден'}\")\n",
        "\n",
        "    # Тест 3 (Суммы не равны)\n",
        "    result3 = is_balanced(12345)\n",
        "    expected3 = False\n",
        "    print(f\"Результат теста 3: {result3}, Ожидаемый: {expected3}, {'Пройден' if result3 == expected3 else 'Не пройден'}\")\n",
        "\n",
        "    # Тест 4 (Суммы не равны)\n",
        "    result4 = is_balanced(123456)\n",
        "    expected4 = False\n",
        "    print(f\"Результат теста 4: {result4}, Ожидаемый: {expected4}, {'Пройден' if result4 == expected4 else 'Не пройден'}\")\n",
        "\n",
        "\n",
        "test_is_balanced()"
      ]
    }
  ],
  "metadata": {
    "colab": {
      "provenance": []
    },
    "kernelspec": {
      "display_name": "Python 3",
      "name": "python3"
    },
    "language_info": {
      "codemirror_mode": {
        "name": "ipython",
        "version": 3
      },
      "file_extension": ".py",
      "mimetype": "text/x-python",
      "name": "python",
      "nbconvert_exporter": "python",
      "pygments_lexer": "ipython3",
      "version": "3.12.6"
    }
  },
  "nbformat": 4,
  "nbformat_minor": 0
}
